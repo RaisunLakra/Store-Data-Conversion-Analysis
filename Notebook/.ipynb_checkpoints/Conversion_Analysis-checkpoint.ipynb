{
 "cells": [
  {
   "cell_type": "code",
   "execution_count": 6,
   "id": "6b79830f-32c5-412d-90d8-91775c8a6ac0",
   "metadata": {},
   "outputs": [],
   "source": [
    "import pandas as pd\n",
    "import numpy as np\n",
    "import matplotlib.pyplot as plt\n",
    "import seaborn as sns\n",
    "\n",
    "%matplotlib inline"
   ]
  },
  {
   "cell_type": "code",
   "execution_count": 7,
   "id": "78190457-00c8-4152-ad2d-bb0cc5b7c91b",
   "metadata": {},
   "outputs": [],
   "source": [
    "df = pd.read_csv('../Datasets/store_sku_ba_dataset.csv')"
   ]
  },
  {
   "cell_type": "code",
   "execution_count": 8,
   "id": "d5134edf-85ef-402b-9e9c-0cc2d8d978a0",
   "metadata": {},
   "outputs": [
    {
     "data": {
      "text/plain": [
       "<bound method DataFrame.info of      Store ID  SKU ID  Total Visits  Transactions    Revenue\n",
       "0     Store_1   SKU_1           606           573   74688.67\n",
       "1     Store_1   SKU_2           695            27    1390.60\n",
       "2     Store_1   SKU_3           389           285   50679.63\n",
       "3     Store_1   SKU_4           689           505   16764.34\n",
       "4     Store_1   SKU_5           522           230   41928.40\n",
       "..        ...     ...           ...           ...        ...\n",
       "995  Store_50  SKU_16           704            40    7557.12\n",
       "996  Store_50  SKU_17           846           104   13813.85\n",
       "997  Store_50  SKU_18           868           842  104198.81\n",
       "998  Store_50  SKU_19           959           209    7604.58\n",
       "999  Store_50  SKU_20           762           376   14784.73\n",
       "\n",
       "[1000 rows x 5 columns]>"
      ]
     },
     "execution_count": 8,
     "metadata": {},
     "output_type": "execute_result"
    }
   ],
   "source": [
    "df.info"
   ]
  },
  {
   "cell_type": "markdown",
   "id": "cadac7dc-17fa-48fb-9b02-6c705420cf01",
   "metadata": {},
   "source": [
    "# Data Cleaning"
   ]
  },
  {
   "cell_type": "code",
   "execution_count": 10,
   "id": "716c571d-f5d8-4656-816a-4508abf30dd7",
   "metadata": {},
   "outputs": [
    {
     "data": {
      "text/plain": [
       "np.int64(0)"
      ]
     },
     "execution_count": 10,
     "metadata": {},
     "output_type": "execute_result"
    }
   ],
   "source": [
    "df.duplicated().sum()"
   ]
  },
  {
   "cell_type": "code",
   "execution_count": null,
   "id": "524ffaad-8788-4771-972c-6292635481d9",
   "metadata": {},
   "outputs": [],
   "source": []
  }
 ],
 "metadata": {
  "kernelspec": {
   "display_name": "Python 3 (ipykernel)",
   "language": "python",
   "name": "python3"
  },
  "language_info": {
   "codemirror_mode": {
    "name": "ipython",
    "version": 3
   },
   "file_extension": ".py",
   "mimetype": "text/x-python",
   "name": "python",
   "nbconvert_exporter": "python",
   "pygments_lexer": "ipython3",
   "version": "3.13.2"
  }
 },
 "nbformat": 4,
 "nbformat_minor": 5
}
